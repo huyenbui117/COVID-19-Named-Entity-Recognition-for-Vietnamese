{
 "cells": [
  {
   "cell_type": "code",
   "execution_count": 7,
   "outputs": [],
   "source": [
    "from transformers import AutoTokenizer, AutoModelForTokenClassification\n",
    "from tasks import NER\n",
    "from utils_ner import TokenClassificationDataset\n",
    "import torch\n",
    "import  nltk"
   ],
   "metadata": {
    "collapsed": false,
    "pycharm": {
     "name": "#%%\n"
    }
   }
  },
  {
   "cell_type": "code",
   "execution_count": 8,
   "outputs": [
    {
     "name": "stderr",
     "output_type": "stream",
     "text": [
      "Special tokens have been added in the vocabulary, make sure the associated word embeddings are fine-tuned or trained.\n"
     ]
    }
   ],
   "source": [
    "# load phobert-ner đã được fine-tuned\n",
    "phobert_ner = AutoModelForTokenClassification.from_pretrained(\"huyenbui117/Covid19_phoNER\")\n",
    "# load tokenizer của phobert\n",
    "tokenizer = AutoTokenizer.from_pretrained(\"vinai/phobert-base\", use_fast=False)"
   ],
   "metadata": {
    "collapsed": false,
    "pycharm": {
     "name": "#%%\n"
    }
   }
  },
  {
   "cell_type": "code",
   "execution_count": 9,
   "outputs": [
    {
     "data": {
      "text/plain": "['O',\n 'B-ORGANIZATION',\n 'O-ORGANIZATION',\n 'I-ORGANIZATION',\n 'B-LOCATION',\n 'I-LOCATION',\n 'B-SYMPTOM_AND_DISEASE',\n 'I-SYMPTOM_AND_DISEASE',\n 'B-DATE',\n 'I-DATE',\n 'B-PATIENT_ID',\n 'I-PATIENT_ID',\n 'B-AGE',\n 'I-AGE',\n 'B-NAME',\n 'I-NAME',\n 'B-JOB',\n 'I-JOB',\n 'B-TRANSPORTATION',\n 'I-TRANSPORTATION',\n 'B-GENDER']"
     },
     "execution_count": 9,
     "metadata": {},
     "output_type": "execute_result"
    }
   ],
   "source": [
    "labels = NER().get_labels(None)\n",
    "labels"
   ],
   "metadata": {
    "collapsed": false,
    "pycharm": {
     "name": "#%%\n"
    }
   }
  },
  {
   "cell_type": "code",
   "execution_count": 31,
   "outputs": [],
   "source": [
    "sentences = [\"Bệnh nhân BN-946401 là NKH, thường trú tại thôn Thành Trung, xã Phồn Xương, huyện Yên Thế, tỉnh Bắc Giang\",\n",
    "            \"thực hiện test nhanh COVID-19 tại Trung tâm Y tế huyện Hữu Lũng cho kết quả nghi ngờ ngày 03/11/2021.\",\n",
    "            \"Ngày 04/11/2021 có kết quả xét nghiệm dương tính với SARS-CoV2 của Bệnh viện Đa khoa tỉnh Lạng Sơn.\"]"
   ],
   "metadata": {
    "collapsed": false,
    "pycharm": {
     "name": "#%%\n"
    }
   }
  },
  {
   "cell_type": "code",
   "execution_count": 39,
   "outputs": [
    {
     "name": "stdout",
     "output_type": "stream",
     "text": [
      "['Bệnh', 'nhân', 'BN-946401', 'là', 'NKH', ',', 'thường', 'trú', 'tại', 'thôn', 'Thành', 'Trung', ',', 'xã', 'Phồn', 'Xương', ',', 'huyện', 'Yên', 'Thế', ',', 'tỉnh', 'Bắc', 'Giang']\n",
      "tensor([[ 0,  0,  0, 18, 19, 19, 19,  0,  0,  0,  0,  0,  0,  0,  0,  4,  5,  5,\n",
      "          5,  0,  4,  5,  5,  5,  5,  0,  4,  5,  5,  0,  4,  5,  5,  0,  0,  0,\n",
      "          0,  0,  0]])\n",
      "('Bệnh', 'O')\n",
      "('nhân', 'O')\n",
      "('BN-946401', 'O')\n",
      "('là', 'B-TRANSPORTATION')\n",
      "('NKH', 'I-TRANSPORTATION')\n",
      "(',', 'I-TRANSPORTATION')\n",
      "('thường', 'I-TRANSPORTATION')\n",
      "('trú', 'O')\n",
      "('tại', 'O')\n",
      "('thôn', 'O')\n",
      "('Thành', 'O')\n",
      "('Trung', 'O')\n",
      "(',', 'O')\n",
      "('xã', 'O')\n",
      "('Phồn', 'O')\n",
      "('Xương', 'B-LOCATION')\n",
      "(',', 'I-LOCATION')\n",
      "('huyện', 'I-LOCATION')\n",
      "('Yên', 'I-LOCATION')\n",
      "('Thế', 'O')\n",
      "(',', 'B-LOCATION')\n",
      "('tỉnh', 'I-LOCATION')\n",
      "('Bắc', 'I-LOCATION')\n",
      "('Giang', 'I-LOCATION')\n",
      "---------------------------------------------\n",
      "['thực', 'hiện', 'test', 'nhanh', 'COVID-19', 'tại', 'Trung', 'tâm', 'Y', 'tế', 'huyện', 'Hữu', 'Lũng', 'cho', 'kết', 'quả', 'nghi', 'ngờ', 'ngày', '03/11/2021', '.']\n",
      "tensor([[0, 0, 0, 0, 0, 0, 0, 0, 0, 0, 4, 5, 5, 5, 5, 5, 5, 0, 0, 0, 0, 0, 0, 8,\n",
      "         9, 9, 9, 0, 0, 0, 0, 0, 0, 0]])\n",
      "('thực', 'O')\n",
      "('hiện', 'O')\n",
      "('test', 'O')\n",
      "('nhanh', 'O')\n",
      "('COVID-19', 'O')\n",
      "('tại', 'O')\n",
      "('Trung', 'O')\n",
      "('tâm', 'O')\n",
      "('Y', 'O')\n",
      "('tế', 'O')\n",
      "('huyện', 'B-LOCATION')\n",
      "('Hữu', 'I-LOCATION')\n",
      "('Lũng', 'I-LOCATION')\n",
      "('cho', 'I-LOCATION')\n",
      "('kết', 'I-LOCATION')\n",
      "('quả', 'I-LOCATION')\n",
      "('nghi', 'I-LOCATION')\n",
      "('ngờ', 'O')\n",
      "('ngày', 'O')\n",
      "('03/11/2021', 'O')\n",
      "('.', 'O')\n",
      "---------------------------------------------\n",
      "['Ngày', '04/11/2021', 'có', 'kết', 'quả', 'xét', 'nghiệm', 'dương', 'tính', 'với', 'SARS-CoV2', 'của', 'Bệnh', 'viện', 'Đa', 'khoa', 'tỉnh', 'Lạng', 'Sơn', '.']\n",
      "tensor([[0, 0, 8, 9, 9, 0, 0, 0, 0, 0, 0, 0, 0, 0, 0, 0, 0, 0, 0, 0, 4, 5, 5, 5,\n",
      "         5, 5, 5, 0, 0, 0, 0, 0, 0, 0]])\n",
      "('Ngày', 'O')\n",
      "('04/11/2021', 'O')\n",
      "('có', 'B-DATE')\n",
      "('kết', 'I-DATE')\n",
      "('quả', 'I-DATE')\n",
      "('xét', 'O')\n",
      "('nghiệm', 'O')\n",
      "('dương', 'O')\n",
      "('tính', 'O')\n",
      "('với', 'O')\n",
      "('SARS-CoV2', 'O')\n",
      "('của', 'O')\n",
      "('Bệnh', 'O')\n",
      "('viện', 'O')\n",
      "('Đa', 'O')\n",
      "('khoa', 'O')\n",
      "('tỉnh', 'O')\n",
      "('Lạng', 'O')\n",
      "('Sơn', 'O')\n",
      "('.', 'O')\n",
      "---------------------------------------------\n"
     ]
    }
   ],
   "source": [
    "for sentence in sentences:\n",
    "    \n",
    "    input_ids = torch.tensor([tokenizer.encode(sentence, \"utf-8\")])\n",
    "    tokens = nltk.word_tokenize(sentence)\n",
    "    print(tokens)\n",
    "    outputs = phobert_ner(input_ids).logits\n",
    "    predictions = torch.argmax(outputs, dim=2)\n",
    "    print(predictions)\n",
    "    for i in [(token, labels[prediction]) for token, prediction in zip(tokens, predictions[0].numpy())]:\n",
    "        print(i)\n",
    "    print('---------------------------------------------')\n"
   ],
   "metadata": {
    "collapsed": false,
    "pycharm": {
     "name": "#%%\n"
    }
   }
  }
 ],
 "metadata": {
  "kernelspec": {
   "display_name": "Python 3",
   "language": "python",
   "name": "python3"
  },
  "language_info": {
   "codemirror_mode": {
    "name": "ipython",
    "version": 2
   },
   "file_extension": ".py",
   "mimetype": "text/x-python",
   "name": "python",
   "nbconvert_exporter": "python",
   "pygments_lexer": "ipython2",
   "version": "2.7.6"
  }
 },
 "nbformat": 4,
 "nbformat_minor": 0
}