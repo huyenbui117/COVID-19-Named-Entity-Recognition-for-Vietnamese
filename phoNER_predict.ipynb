{
 "cells": [
  {
   "cell_type": "code",
   "execution_count": 4,
   "outputs": [],
   "source": [
    "from transformers import AutoTokenizer, AutoModelForTokenClassification\n",
    "from tasks import NER\n",
    "import torch"
   ],
   "metadata": {
    "collapsed": false,
    "pycharm": {
     "name": "#%%\n"
    }
   }
  },
  {
   "cell_type": "code",
   "execution_count": 5,
   "outputs": [
    {
     "name": "stderr",
     "output_type": "stream",
     "text": [
      "Special tokens have been added in the vocabulary, make sure the associated word embeddings are fine-tuned or trained.\n"
     ]
    }
   ],
   "source": [
    "# load phobert-ner đã được fine-tuned\n",
    "phobert_ner = AutoModelForTokenClassification.from_pretrained(\"huyenbui117/Covid19_phoNER\")\n",
    "# load tokenizer của phobert\n",
    "tokenizer = AutoTokenizer.from_pretrained(\"vinai/phobert-base\", use_fast=False)"
   ],
   "metadata": {
    "collapsed": false,
    "pycharm": {
     "name": "#%%\n"
    }
   }
  },
  {
   "cell_type": "code",
   "execution_count": 6,
   "outputs": [
    {
     "data": {
      "text/plain": "['O',\n 'B-ORGANIZATION',\n 'O-ORGANIZATION',\n 'I-ORGANIZATION',\n 'B-LOCATION',\n 'I-LOCATION',\n 'B-SYMPTOM_AND_DISEASE',\n 'I-SYMPTOM_AND_DISEASE',\n 'B-DATE',\n 'I-DATE',\n 'B-PATIENT_ID',\n 'I-PATIENT_ID',\n 'B-AGE',\n 'I-AGE',\n 'B-NAME',\n 'I-NAME',\n 'B-JOB',\n 'I-JOB',\n 'B-TRANSPORTATION',\n 'I-TRANSPORTATION',\n 'B-GENDER']"
     },
     "execution_count": 6,
     "metadata": {},
     "output_type": "execute_result"
    }
   ],
   "source": [
    "labels = NER().get_labels(None)\n",
    "labels"
   ],
   "metadata": {
    "collapsed": false,
    "pycharm": {
     "name": "#%%\n"
    }
   }
  },
  {
   "cell_type": "code",
   "execution_count": 16,
   "outputs": [],
   "source": [
    "from vncorenlp import VnCoreNLP\n",
    "\n",
    "rdrsegmenter = VnCoreNLP(\"VnCoreNLP/VnCoreNLP-1.1.1.jar\", annotators=\"wseg\", max_heap_size='-Xmx500m')"
   ],
   "metadata": {
    "collapsed": false,
    "pycharm": {
     "name": "#%%\n"
    }
   }
  },
  {
   "cell_type": "code",
   "execution_count": 51,
   "outputs": [
    {
     "name": "stdout",
     "output_type": "stream",
     "text": [
      "tensor([[ 0,  0, 20,  0, 10,  0, 12,  0,  0,  0, 16,  0,  1,  3,  0,  0,  6,  7,\n",
      "          0,  0,  0,  0,  0,  4,  5,  0]])\n",
      "('<s>', 'O')\n",
      "('Bệnh_nhân', 'O')\n",
      "('nữ', 'B-GENDER')\n",
      "('số', 'O')\n",
      "('90', 'B-PATIENT_ID')\n",
      "(',', 'O')\n",
      "('30', 'B-AGE')\n",
      "('tuổi', 'O')\n",
      "('là', 'O')\n",
      "('một', 'O')\n",
      "('công_nhân', 'B-JOB')\n",
      "('tại', 'O')\n",
      "('Công_ty', 'B-ORGANIZATION')\n",
      "('Samsung', 'I-ORGANIZATION')\n",
      "('có', 'O')\n",
      "('dấu_hiệu', 'O')\n",
      "('suy', 'B-SYMPTOM_AND_DISEASE')\n",
      "('hô_hấp', 'I-SYMPTOM_AND_DISEASE')\n",
      "(',', 'O')\n",
      "('đang', 'O')\n",
      "('được', 'O')\n",
      "('điều_trị', 'O')\n",
      "('tại', 'O')\n",
      "('bệnh_viện', 'B-LOCATION')\n",
      "('Chợ_Rẫy', 'I-LOCATION')\n",
      "('</s>', 'O')\n",
      "---------------------------------------------\n",
      "tensor([[ 0,  0,  0,  0,  0,  0,  0,  0,  0,  0,  0,  0,  0,  0,  0,  0,  0,  0,\n",
      "          4,  0,  0,  0, 18, 19, 19, 19,  0,  8,  0]])\n",
      "('<s>', 'O')\n",
      "('Bệnh_nhân', 'O')\n",
      "('có', 'O')\n",
      "('đi', 'O')\n",
      "('cùng', 'O')\n",
      "('một', 'O')\n",
      "('tài_xế', 'O')\n",
      "('taxi', 'O')\n",
      "('biển', 'O')\n",
      "('số', 'O')\n",
      "(',', 'O')\n",
      "('là', 'O')\n",
      "('F@@', 'O')\n",
      "('0', 'O')\n",
      "('của', 'O')\n",
      "('ổ', 'O')\n",
      "('dịch', 'O')\n",
      "('tại', 'O')\n",
      "('Bình_Dương', 'B-LOCATION')\n",
      "('trên', 'O')\n",
      "('chuyến', 'O')\n",
      "('bay', 'O')\n",
      "('J@@', 'B-TRANSPORTATION')\n",
      "('L@@', 'I-TRANSPORTATION')\n",
      "('7@@', 'I-TRANSPORTATION')\n",
      "('51', 'I-TRANSPORTATION')\n",
      "('ngày', 'O')\n",
      "('15/10', 'B-DATE')\n",
      "('</s>', 'O')\n",
      "---------------------------------------------\n",
      "tensor([[ 0,  0,  0, 10,  0,  0,  0,  0,  0,  0,  5,  5,  0]])\n",
      "('<s>', 'O')\n",
      "('Bệnh_nhân', 'O')\n",
      "('sô', 'O')\n",
      "('20', 'B-PATIENT_ID')\n",
      "('ăn', 'O')\n",
      "('bún', 'O')\n",
      "('tại', 'O')\n",
      "('quán', 'O')\n",
      "('bún', 'O')\n",
      "('bà', 'O')\n",
      "('P.@@', 'I-LOCATION')\n",
      "('T.A', 'I-LOCATION')\n",
      "('</s>', 'O')\n",
      "---------------------------------------------\n",
      "tensor([[ 0,  0, 14,  0,  0,  0, 14, 14,  0]])\n",
      "('<s>', 'O')\n",
      "('Chị', 'O')\n",
      "('Hà', 'B-NAME')\n",
      "('là', 'O')\n",
      "('con', 'O')\n",
      "('bà', 'O')\n",
      "('P.@@', 'B-NAME')\n",
      "('T.A', 'B-NAME')\n",
      "('</s>', 'O')\n",
      "---------------------------------------------\n",
      "tensor([[0, 1, 3, 3, 3, 3, 3, 3, 0, 0, 0, 0, 0, 0, 0, 0, 0, 0, 0, 0, 0, 0, 0, 0,\n",
      "         4, 5, 0, 0, 0, 0, 0, 0, 0]])\n",
      "('<s>', 'O')\n",
      "('Bệnh', 'B-ORGANIZATION')\n",
      "('vi@@', 'I-ORGANIZATION')\n",
      "('ẹn', 'I-ORGANIZATION')\n",
      "('phổi', 'I-ORGANIZATION')\n",
      "('Đà_@@', 'I-ORGANIZATION')\n",
      "('n@@', 'I-ORGANIZATION')\n",
      "('ẵng', 'I-ORGANIZATION')\n",
      "('đã', 'O')\n",
      "('chuyển', 'O')\n",
      "('hai', 'O')\n",
      "('bệnh_nhân', 'O')\n",
      "('CO@@', 'O')\n",
      "('VI@@', 'O')\n",
      "('D-@@', 'O')\n",
      "('19', 'O')\n",
      "('đã', 'O')\n",
      "('được', 'O')\n",
      "('công_bố', 'O')\n",
      "('trước', 'O')\n",
      "('đó', 'O')\n",
      "('nhiều', 'O')\n",
      "('ngày', 'O')\n",
      "('về', 'O')\n",
      "('Bệnh_viện', 'B-LOCATION')\n",
      "('Đà_Nẵng', 'I-LOCATION')\n",
      "('để', 'O')\n",
      "('tiếp_tục', 'O')\n",
      "('điều_trị', 'O')\n",
      "('bệnh', 'O')\n",
      "('nền', 'O')\n",
      "('.', 'O')\n",
      "('</s>', 'O')\n",
      "---------------------------------------------\n",
      "tensor([[ 0,  0,  0,  0,  0,  0,  0, 18, 19, 19,  0,  0,  0,  0,  0,  0,  0,  0]])\n",
      "('<s>', 'O')\n",
      "('Bốn', 'O')\n",
      "('người', 'O')\n",
      "('\"', 'O')\n",
      "('ngoài', 'O')\n",
      "('chuyển', 'O')\n",
      "('bay', 'O')\n",
      "('VN', 'B-TRANSPORTATION')\n",
      "('00@@', 'I-TRANSPORTATION')\n",
      "('54', 'I-TRANSPORTATION')\n",
      "('\"', 'O')\n",
      "('về', 'O')\n",
      "('trên', 'O')\n",
      "('máy_bay', 'O')\n",
      "('thuê', 'O')\n",
      "('riêng', 'O')\n",
      "('.', 'O')\n",
      "('</s>', 'O')\n",
      "---------------------------------------------\n"
     ]
    }
   ],
   "source": [
    "with open(\"sentences.txt\", 'r', encoding=\"utf-8\") as file:\n",
    "    for line in file:\n",
    "        sentences = rdrsegmenter.tokenize(line)\n",
    "        for sentence in sentences:\n",
    "            sequence = \" \".join(sentence)  # tạo câu mới đã được tokenized\n",
    "\n",
    "            input_ids = torch.tensor([tokenizer.encode(sequence)])  # lấy id của các tokens tương ứng\n",
    "            # không dùng tokenize(decode(encode)), text sẽ bị lỗi khi tokenize do conflict với tokenizer mặc định\n",
    "            tokens = tokenizer.convert_ids_to_tokens(tokenizer.encode(sequence))  # lấy các token để đánh tags\n",
    "\n",
    "            outputs = phobert_ner(input_ids).logits\n",
    "            predictions = torch.argmax(outputs, dim=2)\n",
    "            print(predictions)\n",
    "\n",
    "\n",
    "            for i in [(token, labels[prediction]) for token, prediction in zip(tokens, predictions[0].numpy())]:\n",
    "                print(i)\n",
    "            print('---------------------------------------------')\n"
   ],
   "metadata": {
    "collapsed": false,
    "pycharm": {
     "name": "#%%\n"
    }
   }
  }
 ],
 "metadata": {
  "kernelspec": {
   "display_name": "Python 3",
   "language": "python",
   "name": "python3"
  },
  "language_info": {
   "codemirror_mode": {
    "name": "ipython",
    "version": 2
   },
   "file_extension": ".py",
   "mimetype": "text/x-python",
   "name": "python",
   "nbconvert_exporter": "python",
   "pygments_lexer": "ipython2",
   "version": "2.7.6"
  }
 },
 "nbformat": 4,
 "nbformat_minor": 0
}